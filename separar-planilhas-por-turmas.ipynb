{
 "cells": [
  {
   "cell_type": "code",
   "execution_count": 2,
   "id": "mobile-fraud",
   "metadata": {},
   "outputs": [],
   "source": [
    "import os\n",
    "import pandas as pd"
   ]
  },
  {
   "cell_type": "code",
   "execution_count": 3,
   "id": "comparative-absence",
   "metadata": {},
   "outputs": [],
   "source": [
    "caminho = r'C:\\Users\\david\\OneDrive\\ESCOLA\\ETE LAL\\CONTROLE DE FREQUÊNCIAS E NOTAS\\2021\\ELETIVAS\\ANUAL\\TURMAS\\geral-anual.xlsx'"
   ]
  },
  {
   "cell_type": "code",
   "execution_count": 4,
   "id": "excess-trinity",
   "metadata": {},
   "outputs": [],
   "source": [
    "df = pd.read_excel(caminho)"
   ]
  },
  {
   "cell_type": "code",
   "execution_count": 5,
   "id": "possible-practitioner",
   "metadata": {},
   "outputs": [
    {
     "data": {
      "text/html": [
       "<div>\n",
       "<style scoped>\n",
       "    .dataframe tbody tr th:only-of-type {\n",
       "        vertical-align: middle;\n",
       "    }\n",
       "\n",
       "    .dataframe tbody tr th {\n",
       "        vertical-align: top;\n",
       "    }\n",
       "\n",
       "    .dataframe thead th {\n",
       "        text-align: right;\n",
       "    }\n",
       "</style>\n",
       "<table border=\"1\" class=\"dataframe\">\n",
       "  <thead>\n",
       "    <tr style=\"text-align: right;\">\n",
       "      <th></th>\n",
       "      <th>ESTUDANTE</th>\n",
       "      <th>TURMA</th>\n",
       "      <th>PROFESSOR RESPONSÁVEL SIEPE</th>\n",
       "      <th>I BIMESTRE</th>\n",
       "      <th>II BIMESTRE</th>\n",
       "      <th>III BIMESTRE</th>\n",
       "      <th>IV BIMESTRE</th>\n",
       "      <th>MÉDIA GERAL ANUAL</th>\n",
       "    </tr>\n",
       "  </thead>\n",
       "  <tbody>\n",
       "    <tr>\n",
       "      <th>0</th>\n",
       "      <td>ACELIJA YONA SANTOS DA SILVA</td>\n",
       "      <td>2ºHOSP</td>\n",
       "      <td>REOBE SILVA</td>\n",
       "      <td>6</td>\n",
       "      <td>6</td>\n",
       "      <td>6</td>\n",
       "      <td>6</td>\n",
       "      <td>6.0000</td>\n",
       "    </tr>\n",
       "    <tr>\n",
       "      <th>1</th>\n",
       "      <td>ADRIEL DAVID DA SILVA</td>\n",
       "      <td>3ºHOSP</td>\n",
       "      <td>JAILSON</td>\n",
       "      <td>6</td>\n",
       "      <td>6</td>\n",
       "      <td>6</td>\n",
       "      <td>6</td>\n",
       "      <td>6.0000</td>\n",
       "    </tr>\n",
       "    <tr>\n",
       "      <th>2</th>\n",
       "      <td>ÁGATA PRISCILA DIAS DO ESPIRITO SANTO</td>\n",
       "      <td>3ºHOSP</td>\n",
       "      <td>JAILSON</td>\n",
       "      <td>9</td>\n",
       "      <td>9</td>\n",
       "      <td>7.25</td>\n",
       "      <td>8</td>\n",
       "      <td>8.3125</td>\n",
       "    </tr>\n",
       "    <tr>\n",
       "      <th>3</th>\n",
       "      <td>ALANA MAYCHA DA SILVA TRAORE</td>\n",
       "      <td>2ºTDSB</td>\n",
       "      <td>ÁDRIA BIANCA</td>\n",
       "      <td>9.5</td>\n",
       "      <td>8.5</td>\n",
       "      <td>10</td>\n",
       "      <td>10</td>\n",
       "      <td>9.5000</td>\n",
       "    </tr>\n",
       "    <tr>\n",
       "      <th>4</th>\n",
       "      <td>ALEXANDRE RODRIGUES DA SILVA JUNIOR</td>\n",
       "      <td>2ºTDSB</td>\n",
       "      <td>ÁDRIA BIANCA</td>\n",
       "      <td>7</td>\n",
       "      <td>6</td>\n",
       "      <td>6</td>\n",
       "      <td>10</td>\n",
       "      <td>7.2500</td>\n",
       "    </tr>\n",
       "  </tbody>\n",
       "</table>\n",
       "</div>"
      ],
      "text/plain": [
       "                               ESTUDANTE   TURMA PROFESSOR RESPONSÁVEL SIEPE  \\\n",
       "0           ACELIJA YONA SANTOS DA SILVA  2ºHOSP                 REOBE SILVA   \n",
       "1                  ADRIEL DAVID DA SILVA  3ºHOSP                     JAILSON   \n",
       "2  ÁGATA PRISCILA DIAS DO ESPIRITO SANTO  3ºHOSP                     JAILSON   \n",
       "3           ALANA MAYCHA DA SILVA TRAORE  2ºTDSB                ÁDRIA BIANCA   \n",
       "4    ALEXANDRE RODRIGUES DA SILVA JUNIOR  2ºTDSB                ÁDRIA BIANCA   \n",
       "\n",
       "  I BIMESTRE II BIMESTRE III BIMESTRE IV BIMESTRE  MÉDIA GERAL ANUAL  \n",
       "0          6           6            6           6             6.0000  \n",
       "1          6           6            6           6             6.0000  \n",
       "2          9           9         7.25           8             8.3125  \n",
       "3        9.5         8.5           10          10             9.5000  \n",
       "4          7           6            6          10             7.2500  "
      ]
     },
     "execution_count": 5,
     "metadata": {},
     "output_type": "execute_result"
    }
   ],
   "source": [
    "df.head()"
   ]
  },
  {
   "cell_type": "code",
   "execution_count": 6,
   "id": "respective-might",
   "metadata": {},
   "outputs": [],
   "source": [
    "turmas = df['TURMA'].unique()"
   ]
  },
  {
   "cell_type": "code",
   "execution_count": 10,
   "id": "federal-mission",
   "metadata": {},
   "outputs": [],
   "source": [
    "for turma in turmas:\n",
    "    df[df['TURMA'] == turma].to_excel(r\"C:\\Users\\david\\OneDrive\\ESCOLA\\ETE LAL\\CONTROLE DE FREQUÊNCIAS E NOTAS\\2021\\ELETIVAS\\ANUAL\\TURMAS\" + '\\\\' + f'{turma}.xlsx', index=False)"
   ]
  },
  {
   "cell_type": "code",
   "execution_count": 11,
   "id": "dangerous-signature",
   "metadata": {},
   "outputs": [],
   "source": [
    "df.to_excel(r'C:\\Users\\david\\OneDrive\\ESCOLA\\ETE LAL\\CONTROLE DE FREQUÊNCIAS E NOTAS\\2021\\ELETIVAS\\ANUAL\\TURMAS\\geral-anual.xlsx', index=False)"
   ]
  },
  {
   "cell_type": "code",
   "execution_count": null,
   "id": "developing-following",
   "metadata": {},
   "outputs": [],
   "source": []
  }
 ],
 "metadata": {
  "hide_input": false,
  "kernelspec": {
   "display_name": "Python 3 (ipykernel)",
   "language": "python",
   "name": "python3"
  },
  "language_info": {
   "codemirror_mode": {
    "name": "ipython",
    "version": 3
   },
   "file_extension": ".py",
   "mimetype": "text/x-python",
   "name": "python",
   "nbconvert_exporter": "python",
   "pygments_lexer": "ipython3",
   "version": "3.10.5"
  }
 },
 "nbformat": 4,
 "nbformat_minor": 5
}
